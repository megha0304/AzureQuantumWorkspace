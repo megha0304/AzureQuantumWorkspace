{
 "cells": [
  {
   "cell_type": "code",
   "execution_count": null,
   "metadata": {},
   "outputs": [],
   "source": [
    "from azure.quantum import Workspace\n",
    "workspace = Workspace (\n",
    "   resource_id = \"/subscriptions/078c6b2b-46a5-442e-a3a6-2c806dd4142f/resourceGroups/AzureQuantum/providers/Microsoft.Quantum/Workspaces/DemoWorkspace\",\n",
    "   location = \"westus\"\n",
    ")\n"
   ]
  },
  {
   "cell_type": "code",
   "execution_count": null,
   "metadata": {},
   "outputs": [],
   "source": [
    "from azure.quantum import Workspace\n",
    "from azure.quantum.qiskit import AzureQuantumProvider\n",
    "\n",
    "workspace = Workspace(\n",
    "   resource_id = \"/subscriptions/078c6b2b-46a5-442e-a3a6-2c806dd4142f/resourceGroups/AzureQuantum/providers/Microsoft.Quantum/Workspaces/DemoWorkspace\",\n",
    "   location = \"westus\"\n",
    ")\n",
    "provider = AzureQuantumProvider(workspace)\n"
   ]
  },
  {
   "cell_type": "code",
   "execution_count": null,
   "metadata": {},
   "outputs": [],
   "source": [
    "from qiskit import QuantumCircuit\n",
    "from qiskit import QuantumRegister \n",
    "from qiskit import ClassicalRegister\n",
    "from qiskit.visualization import plot_histogram"
   ]
  },
  {
   "cell_type": "code",
   "execution_count": null,
   "metadata": {},
   "outputs": [],
   "source": [
    "q = QuantumRegister(2, 'q')\n",
    "c = ClassicalRegister (2, 'c')\n",
    "circuit= QuantumCircuit( q,c)\n",
    "circuit.h(q[0])\n",
    "circuit.draw()"
   ]
  },
  {
   "cell_type": "code",
   "execution_count": null,
   "metadata": {},
   "outputs": [],
   "source": [
    "circuit.cx(q[1],q[0])\n",
    "circuit.draw()"
   ]
  },
  {
   "cell_type": "code",
   "execution_count": null,
   "metadata": {},
   "outputs": [],
   "source": [
    "circuit.measure(q,c)\n",
    "circuit.draw()"
   ]
  }
 ],
 "metadata": {
  "language_info": {
   "name": "python"
  }
 },
 "nbformat": 4,
 "nbformat_minor": 2
}
